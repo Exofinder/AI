{
 "cells": [
  {
   "cell_type": "code",
   "execution_count": 2,
   "metadata": {},
   "outputs": [
    {
     "name": "stdout",
     "output_type": "stream",
     "text": [
      "데이터 샘플:\n",
      "   rowid     pl_name  hostname pl_letter    hd_name    hip_name  \\\n",
      "0      1    11 Com b    11 Com         b  HD 107383   HIP 60202   \n",
      "1      2    11 UMi b    11 UMi         b  HD 136726   HIP 74793   \n",
      "2      3    14 And b    14 And         b  HD 221345  HIP 116076   \n",
      "3      4    14 Her b    14 Her         b  HD 145675   HIP 79248   \n",
      "4      5  16 Cyg B b  16 Cyg B         b  HD 186427   HIP 96901   \n",
      "\n",
      "          tic_id                       gaia_id  sy_snum  sy_pnum  ...  \\\n",
      "0   TIC 72437047  Gaia DR2 3946945413106333696        2        1  ...   \n",
      "1  TIC 230061010  Gaia DR2 1696798367260229376        1        1  ...   \n",
      "2  TIC 333225860  Gaia DR2 1920113512486282240        1        1  ...   \n",
      "3  TIC 219483057  Gaia DR2 1385293808145621504        1        2  ...   \n",
      "4   TIC 27533327  Gaia DR2 2135550755683407232        3        1  ...   \n",
      "\n",
      "   sy_kepmagerr1  sy_kepmagerr2  \\\n",
      "0            NaN            NaN   \n",
      "1            NaN            NaN   \n",
      "2            NaN            NaN   \n",
      "3            NaN            NaN   \n",
      "4            NaN            NaN   \n",
      "\n",
      "                                   sy_kepmag_reflink  pl_nnotes st_nphot  \\\n",
      "0  <a refstr=STASSUN_ET_AL__2019 href=https://ui....        2.0      1.0   \n",
      "1  <a refstr=STASSUN_ET_AL__2019 href=https://ui....        0.0      1.0   \n",
      "2  <a refstr=STASSUN_ET_AL__2019 href=https://ui....        0.0      1.0   \n",
      "3  <a refstr=STASSUN_ET_AL__2019 href=https://ui....        0.0      1.0   \n",
      "4  <a refstr=STASSUN_ET_AL__2019 href=https://ui....        5.0      1.0   \n",
      "\n",
      "  st_nrvc st_nspec pl_nespec pl_ntranspec pl_ndispec  \n",
      "0     2.0      0.0       0.0          0.0        0.0  \n",
      "1     1.0      0.0       0.0          0.0        0.0  \n",
      "2     1.0      0.0       0.0          0.0        0.0  \n",
      "3     4.0      1.0       0.0          0.0        0.0  \n",
      "4     4.0      3.0       0.0          0.0        0.0  \n",
      "\n",
      "[5 rows x 319 columns]\n"
     ]
    }
   ],
   "source": [
    "import pandas as pd\n",
    "import numpy as np\n",
    "\n",
    "file_path = \"./nasa.csv\"\n",
    "data = pd.read_csv(file_path, comment='#')\n",
    "\n",
    "# 데이터 확인\n",
    "print(\"데이터 샘플:\")\n",
    "print(data.head())\n",
    "\n"
   ]
  },
  {
   "cell_type": "code",
   "execution_count": 3,
   "metadata": {},
   "outputs": [
    {
     "name": "stdout",
     "output_type": "stream",
     "text": [
      "\n",
      "잘못된 스펙트럼 타입이 있습니다. 다음 값을 확인하세요:\n",
      "     st_spectype  Spectral Type Numeric\n",
      "16           NaN                   -1.0\n",
      "18           NaN                   -1.0\n",
      "19           NaN                   -1.0\n",
      "21           NaN                   -1.0\n",
      "22           NaN                   -1.0\n",
      "...          ...                    ...\n",
      "5687         NaN                   -1.0\n",
      "5688         NaN                   -1.0\n",
      "5689        T8.5                   -1.0\n",
      "5702         NaN                   -1.0\n",
      "5703         NaN                   -1.0\n",
      "\n",
      "[3716 rows x 2 columns]\n",
      "\n",
      "변환된 스펙트럼 타입 (float 형태):\n",
      "  st_spectype  Spectral Type Numeric\n",
      "0      G8 III                   -0.4\n",
      "1      K4 III                   -0.8\n",
      "2      K0 III                   -0.8\n",
      "3        K0 V                   -0.8\n",
      "4        G3 V                   -0.4\n"
     ]
    }
   ],
   "source": [
    "# 스펙트럼 타입을 숫자로 매핑하기\n",
    "spectral_type_mapping = {'O': 0, 'B': -2.0, 'A': -0.3, 'F': -0.15, 'G': -0.4, 'K': -0.8, 'M': -2.0}\n",
    "\n",
    "# st_spectype이 NaN이 아닌지 확인하고, 문자열인지 확인 후 처리\n",
    "def map_spectral_type(x):\n",
    "    if pd.isna(x):\n",
    "        return -1  # NaN 값일 경우 -1 반환\n",
    "    if isinstance(x, str) and len(x) > 0:  # 문자열인지 확인하고 비어있지 않은지 체크\n",
    "        return spectral_type_mapping.get(x[0].upper(), -1)  # 첫 글자를 기준으로 매핑\n",
    "    return -1  # 문자열이 아니거나 비어있는 경우 -1 반환\n",
    "\n",
    "# 스펙트럼 타입을 숫자로 변환\n",
    "data['Spectral Type Numeric'] = data['st_spectype'].apply(map_spectral_type)\n",
    "\n",
    "# -1로 변환된 값이 있는지 확인 (잘못된 스펙트럼 타입)\n",
    "invalid_spectral_types = data[data['Spectral Type Numeric'] == -1]\n",
    "if not invalid_spectral_types.empty:\n",
    "    print(\"\\n잘못된 스펙트럼 타입이 있습니다. 다음 값을 확인하세요:\")\n",
    "    print(invalid_spectral_types[['st_spectype', 'Spectral Type Numeric']])\n",
    "else:\n",
    "    print(\"\\n모든 스펙트럼 타입이 올바르게 변환되었습니다.\")\n",
    "\n",
    "# 변환된 값 확인\n",
    "print(\"\\n변환된 스펙트럼 타입 (float 형태):\")\n",
    "print(data[['st_spectype', 'Spectral Type Numeric']].head())"
   ]
  },
  {
   "cell_type": "code",
   "execution_count": 4,
   "metadata": {},
   "outputs": [],
   "source": [
    "\n",
    "planet = \"Kepler\"\n",
    "host = 'kepler-22'\n",
    "distance = 190\n",
    "spectralType = 'G5V'\n",
    "VMagnitude = 12\n",
    "planetDensity=15\n",
    "eccentricity=0.72\n",
    "au=0.812"
   ]
  },
  {
   "cell_type": "code",
   "execution_count": 5,
   "metadata": {},
   "outputs": [
    {
     "name": "stdout",
     "output_type": "stream",
     "text": [
      "Bolometric Correction for Spectral Type G5V: -0.4\n"
     ]
    }
   ],
   "source": [
    "spectral_type_mapping = {'O': 0, 'B': -2.0, 'A': -0.3, 'F': -0.15, 'G': -0.4, 'K': -0.8, 'M': -2.0}\n",
    "\n",
    "# 스펙트럼 타입을 float으로 변환하는 함수 수정\n",
    "def spectral_type_to_float(spectral_type):\n",
    "    \"\"\"\n",
    "    스펙트럼 타입(예: \"F5\", \"G2\")을 Bolometric 보정값으로 변환하는 함수.\n",
    "    F5 -> -0.15 (F가 3), G2 -> -0.4 (G가 4)\n",
    "    \"\"\"\n",
    "    if isinstance(spectral_type, str) and len(spectral_type) > 0:\n",
    "        # 스펙트럼 타입의 첫 글자만 사용하여 매핑 (숫자는 무시)\n",
    "        base_value = spectral_type_mapping.get(spectral_type[0].upper(), np.nan)\n",
    "        return base_value\n",
    "    return np.nan  # 변환이 불가능한 경우 NaN 반환\n",
    "\n",
    "# Bolometric 보정값을 계산\n",
    "bolometric_correction = spectral_type_to_float(spectralType)\n",
    "\n",
    "# 올바르게 변환되었는지 확인\n",
    "print(f\"Bolometric Correction for Spectral Type {spectralType}: {bolometric_correction}\")\n",
    "\n"
   ]
  },
  {
   "cell_type": "code",
   "execution_count": 6,
   "metadata": {},
   "outputs": [],
   "source": [
    "# PPTX 파일에 나와 있는 공식에 따라 필요한 함수 정의\n",
    "def calculate_absolute_magnitude(apparent_magnitude, distance_pc):\n",
    "    \"\"\"\n",
    "    겉보기 등급과 거리(파섹)를 이용하여 절대 등급을 계산하는 함수\n",
    "    절대 등급 공식: M = m - 5 * (log10(d) - 1)\n",
    "    \"\"\"\n",
    "\n",
    "    return apparent_magnitude - 5 * (np.log10(distance_pc) - 1)\n",
    "\n",
    "def calculate_bolometric_magnitude(absolute_magnitude, bolometric_correction):\n",
    "    \"\"\"\n",
    "    절대 등급과 Bolometric 보정값을 이용하여 절대 복사 등급을 계산하는 함수\n",
    "    \"\"\"\n",
    "    return absolute_magnitude + bolometric_correction\n",
    "\n",
    "def calculate_luminosity(absolute_bolometric_magnitude, sun_bolometric_magnitude=4.74, sun_luminosity=3.828*1026):\n",
    "    \"\"\"\n",
    "    항성의 절대 복사 등급을 이용하여 항성의 광도를 계산하는 함수\n",
    "    공식: L = L_sun * 10^((M_sun - M_bol) / 2.5)\n",
    "    \"\"\"\n",
    "    return (10 ** ((absolute_bolometric_magnitude-sun_bolometric_magnitude) / (-2.5)))\n",
    "\n",
    "def calculate_habitable_zone_boundaries(luminosity):\n",
    "    \"\"\"\n",
    "    항성의 광도를 이용하여 생명가능지대의 내부 및 외부 반경을 계산하는 함수\n",
    "    공식: r_inner = sqrt(L / 1.1), r_outer = sqrt(L / 0.53)\n",
    "    \"\"\"\n",
    "    r_inner = np.sqrt(luminosity / 1.1)\n",
    "    r_outer = np.sqrt(luminosity / 0.53)\n",
    "    return r_inner, r_outer\n",
    "\n",
    "def calculate_habitable_zone(r_inner,r_outer,au):\n",
    "    if(au>r_inner and au<r_outer):\n",
    "        return 1\n",
    "    else:\n",
    "        return 0\n",
    "\n",
    "\n"
   ]
  },
  {
   "cell_type": "code",
   "execution_count": 14,
   "metadata": {},
   "outputs": [
    {
     "name": "stdout",
     "output_type": "stream",
     "text": [
      "Absolute Magnitude: 5.61\n",
      "Bolometric Magnitude: 5.21\n",
      "Luminosity [W]: 6.51e-01\n",
      "Habitable Zone Inner Radius [AU]: 0.77\n",
      "Habitable Zone Outer Radius [AU]: 1.11\n",
      "1\n"
     ]
    }
   ],
   "source": [
    "# 절대 등급 계산\n",
    "absolute_magnitude = calculate_absolute_magnitude(VMagnitude, distance)\n",
    "print(f\"Absolute Magnitude: {absolute_magnitude:.2f}\")\n",
    "\n",
    "# 절대 복사 등급 계산\n",
    "bolometric_magnitude = calculate_bolometric_magnitude(absolute_magnitude, bolometric_correction)\n",
    "print(f\"Bolometric Magnitude: {bolometric_magnitude:.2f}\")\n",
    "\n",
    "# 광도 계산\n",
    "luminosity = calculate_luminosity(bolometric_magnitude)\n",
    "print(f\"Luminosity [W]: {luminosity:.2e}\")\n",
    "\n",
    "# 생명가능지대 경계 계산\n",
    "r_inner, r_outer = calculate_habitable_zone_boundaries(luminosity)\n",
    "print(f\"Habitable Zone Inner Radius [AU]: {r_inner:.2f}\")\n",
    "print(f\"Habitable Zone Outer Radius [AU]: {r_outer:.2f}\")\n",
    "\n",
    "result = calculate_habitable_zone(r_inner,r_outer,au)\n",
    "print(result)"
   ]
  },
  {
   "cell_type": "code",
   "execution_count": null,
   "metadata": {},
   "outputs": [],
   "source": []
  }
 ],
 "metadata": {
  "kernelspec": {
   "display_name": "deeplearning",
   "language": "python",
   "name": "python3"
  },
  "language_info": {
   "codemirror_mode": {
    "name": "ipython",
    "version": 3
   },
   "file_extension": ".py",
   "mimetype": "text/x-python",
   "name": "python",
   "nbconvert_exporter": "python",
   "pygments_lexer": "ipython3",
   "version": "3.9.19"
  }
 },
 "nbformat": 4,
 "nbformat_minor": 2
}
